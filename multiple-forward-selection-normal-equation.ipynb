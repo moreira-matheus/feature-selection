{
 "cells": [
  {
   "cell_type": "markdown",
   "metadata": {},
   "source": [
    "## Feature Selection\n",
    "\n",
    "Multiple Forward Selection"
   ]
  },
  {
   "cell_type": "code",
   "execution_count": 1,
   "metadata": {},
   "outputs": [],
   "source": [
    "import numpy as np\n",
    "import pandas as pd\n",
    "import matplotlib.pyplot as plt\n",
    "from scipy.stats import f\n",
    "from sklearn.preprocessing import MinMaxScaler\n",
    "from sklearn.model_selection import train_test_split\n",
    "%matplotlib inline"
   ]
  },
  {
   "cell_type": "code",
   "execution_count": 2,
   "metadata": {},
   "outputs": [],
   "source": [
    "#data = pd.read_csv('winequality-red.csv', sep=';')\n",
    "data = pd.read_csv('winequality-white.csv', sep=';')"
   ]
  },
  {
   "cell_type": "code",
   "execution_count": 3,
   "metadata": {},
   "outputs": [],
   "source": [
    "X, y = data.iloc[:,:-1].to_numpy(), data.iloc[:,-1].to_numpy()"
   ]
  },
  {
   "cell_type": "code",
   "execution_count": 4,
   "metadata": {},
   "outputs": [],
   "source": [
    "scaler = MinMaxScaler(feature_range=(0,10))"
   ]
  },
  {
   "cell_type": "code",
   "execution_count": 5,
   "metadata": {},
   "outputs": [],
   "source": [
    "num_examples, num_features = X.shape"
   ]
  },
  {
   "cell_type": "code",
   "execution_count": 6,
   "metadata": {},
   "outputs": [],
   "source": [
    "X = scaler.fit_transform(X)\n",
    "y = y.reshape((num_examples, 1))"
   ]
  },
  {
   "cell_type": "markdown",
   "metadata": {},
   "source": [
    "**Normal Equation**:"
   ]
  },
  {
   "cell_type": "code",
   "execution_count": 7,
   "metadata": {},
   "outputs": [],
   "source": [
    "def normal_equation(X, y):\n",
    "    '''\n",
    "    Returns the estimated parameters\n",
    "    as a (n+1,1) vector\n",
    "    [n: number of features].\n",
    "    '''\n",
    "    return np.linalg.pinv(X.T.dot(X)).dot(X.T).dot(y)"
   ]
  },
  {
   "cell_type": "code",
   "execution_count": 8,
   "metadata": {},
   "outputs": [],
   "source": [
    "def hypothesis(theta, X):\n",
    "    '''\n",
    "    Returns the hypothesis for the LinReg\n",
    "    theta: (n+1, 1) vector [n: # features]\n",
    "    X: (m, n+1) matrix [m: # examples]\n",
    "    '''\n",
    "    return X.dot(theta)"
   ]
  },
  {
   "cell_type": "markdown",
   "metadata": {},
   "source": [
    "[Root Mean Squared Error](https://en.wikipedia.org/wiki/Root-mean-square_deviation)"
   ]
  },
  {
   "cell_type": "code",
   "execution_count": 9,
   "metadata": {},
   "outputs": [],
   "source": [
    "def rmse(predicted, actual):\n",
    "    err = predicted - actual\n",
    "    return float(np.sqrt(err.T.dot(err)))"
   ]
  },
  {
   "cell_type": "markdown",
   "metadata": {},
   "source": [
    "**F-test**:\n",
    "\n",
    "[F-test to compare regression models](https://en.wikipedia.org/wiki/F-test#Regression_problems)"
   ]
  },
  {
   "cell_type": "code",
   "execution_count": 10,
   "metadata": {},
   "outputs": [],
   "source": [
    "def f_test(residuals_UR, residuals_R, params_UR, params_R, alpha):\n",
    "    '''\n",
    "    Performs an F-test between the unrestricted (UR)\n",
    "    and restricted (R) model, with the informed\n",
    "    level of significance (alpha).\n",
    "    Receives the residuals and number of paramaters\n",
    "    for each model.\n",
    "    Returns the F-statistic and F-critical,\n",
    "    respectively.\n",
    "    '''\n",
    "    sample_size = len(residuals_UR)\n",
    "    # Un-restricted RSS\n",
    "    rss_UR = residuals_UR.T.dot(residuals_UR)\n",
    "    # Restricted RSS\n",
    "    rss_R = residuals_R.T.dot(residuals_R)\n",
    "    \n",
    "    num = (rss_R-rss_UR)/(params_UR-params_R)\n",
    "    den = rss_UR/(sample_size-params_UR)\n",
    "    f_stat = num/den\n",
    "    f_crit = f.ppf(1.0-alpha,params_UR-params_R,sample_size-params_UR)\n",
    "    return f_stat, f_crit"
   ]
  },
  {
   "cell_type": "markdown",
   "metadata": {},
   "source": [
    "### Feature selection"
   ]
  },
  {
   "cell_type": "code",
   "execution_count": 11,
   "metadata": {},
   "outputs": [],
   "source": [
    "def feature_selection(X, y, base_features=[0], alpha=0.05):\n",
    "    '''\n",
    "    FORWARD SELECTION:\n",
    "    Evaluates the models with one addition\n",
    "    (one more feature), and compares\n",
    "    with the hollow model (only intercept),\n",
    "    using an F-test with the informed level\n",
    "    of significance (alpha).\n",
    "    Returns two lists whose sizes are the number\n",
    "    of features: the first one contains the results\n",
    "    for the F-tests (True: null hypothesis rejected;\n",
    "    i.e., the parameter of the added feature is NOT zero);\n",
    "    the second one, the RMSE if the corresponding feature\n",
    "    were added.\n",
    "    X must already account for the constant term\n",
    "    (i. e., it must already contain a one-valued first column).\n",
    "    '''\n",
    "    _, num_features = X.shape\n",
    "    other_features = [f for f in range(num_features) if f not in base_features]\n",
    "    hollow_X = X[:,base_features]\n",
    "    hollow_theta = normal_equation(hollow_X,y)\n",
    "    H0_rejected = {0: True}\n",
    "    rmses = {0: rmse(hypothesis(hollow_theta,hollow_X), y)}\n",
    "    \n",
    "    for extension in other_features:\n",
    "        extended_X = X[:,base_features+[extension]]\n",
    "        extended_theta = normal_equation(extended_X,y)\n",
    "        \n",
    "        # Performing the F-test\n",
    "        hollow_residuals = hypothesis(hollow_theta,hollow_X) - y\n",
    "        extended_residuals = hypothesis(extended_theta,extended_X) - y\n",
    "        f_stat, f_crit = f_test(extended_residuals,hollow_residuals,\n",
    "                                2,1,alpha)\n",
    "        \n",
    "        # Evaluating the statistical significance\n",
    "        \n",
    "        H0_rejected[extension] = bool(f_stat > f_crit)\n",
    "        rmses[extension] = rmse(hypothesis(extended_theta,extended_X),y)\n",
    "\n",
    "    return H0_rejected, rmses"
   ]
  },
  {
   "cell_type": "markdown",
   "metadata": {},
   "source": [
    "### Multiple forward selection"
   ]
  },
  {
   "cell_type": "code",
   "execution_count": 12,
   "metadata": {},
   "outputs": [
    {
     "name": "stdout",
     "output_type": "stream",
     "text": [
      "H0 rejected: \n",
      "{0: True, 1: True, 2: True, 3: True, 4: True, 5: True, 6: True, 7: True, 8: True, 9: True, 10: True}\n",
      "\n",
      "RMSES: \n",
      "{0: 131.60817366834058, 1: 123.68218471793247, 2: 121.13270580533093, 3: 130.14373948903796, 4: 127.20301327424067, 5: 118.27475848477559, 6: 117.11496384063565, 7: 129.39821606664674, 8: 90.1050664084958, 9: 113.96478312383466, 10: 99.30863384236925}\n",
      "\n",
      "SELECTED FEATURES: \n",
      "[0, 8]\n",
      "\n",
      " -------------------------------------------------- \n",
      "\n",
      "H0 rejected: \n",
      "{0: True, 1: True, 2: True, 3: True, 4: True, 5: True, 6: True, 7: True, 9: True, 10: True}\n",
      "\n",
      "RMSES: \n",
      "{0: 90.1050664084958, 1: 89.43942815680393, 2: 87.45637138932057, 3: 89.21432038616528, 4: 89.71482191800456, 5: 87.29692606726819, 6: 88.95146586107919, 7: 89.99544803864492, 9: 88.14013499096104, 10: 77.75682157390537}\n",
      "\n",
      "SELECTED FEATURES: \n",
      "[0, 8, 10]\n",
      "\n",
      " -------------------------------------------------- \n",
      "\n",
      "H0 rejected: \n",
      "{0: True, 1: True, 2: True, 3: True, 4: True, 5: True, 6: True, 7: True, 9: True}\n",
      "\n",
      "RMSES: \n",
      "{0: 77.75682157390537, 1: 77.68615141532247, 2: 75.40399234803175, 3: 72.27353337109666, 4: 75.3844917804494, 5: 72.45700290249167, 6: 72.41217216142276, 7: 69.44626624526981, 9: 75.96169014340971}\n",
      "\n",
      "SELECTED FEATURES: \n",
      "[0, 8, 10, 7]\n",
      "\n",
      " -------------------------------------------------- \n",
      "\n",
      "H0 rejected: \n",
      "{0: True, 1: True, 2: True, 3: True, 4: True, 5: True, 6: True, 9: True}\n",
      "\n",
      "RMSES: \n",
      "{0: 69.44626624526981, 1: 69.07874976580177, 2: 68.5649276124712, 3: 68.55898531490762, 4: 68.44502213169538, 5: 67.52842725199586, 6: 68.37253982943217, 9: 68.79214374816229}\n",
      "\n",
      "SELECTED FEATURES: \n",
      "[0, 8, 10, 7, 5]\n",
      "\n",
      " -------------------------------------------------- \n",
      "\n",
      "H0 rejected: \n",
      "{0: True, 1: True, 2: True, 3: True, 4: True, 6: True, 9: True}\n",
      "\n",
      "RMSES: \n",
      "{0: 67.52842725199586, 1: 67.26018234947408, 2: 66.94044654155715, 3: 66.6584183641424, 4: 66.75533927488522, 6: 67.45674784772139, 9: 67.01459167751635}\n",
      "\n",
      "SELECTED FEATURES: \n",
      "[0, 8, 10, 7, 5, 3]\n",
      "\n",
      " -------------------------------------------------- \n",
      "\n",
      "H0 rejected: \n",
      "{0: True, 1: True, 2: True, 4: True, 6: False, 9: True}\n",
      "\n",
      "RMSES: \n",
      "{0: 66.6584183641424, 1: 66.17262007178893, 2: 66.25139288121004, 4: 66.29848769334232, 6: 66.65683849614197, 9: 66.4516404722134}\n",
      "\n",
      "SELECTED FEATURES: \n",
      "[0, 8, 10, 7, 5, 3, 1]\n",
      "\n",
      " -------------------------------------------------- \n",
      "\n",
      "H0 rejected: \n",
      "{0: True, 2: True, 4: True, 6: True, 9: True}\n",
      "\n",
      "RMSES: \n",
      "{0: 66.17262007178893, 2: 65.87452491842123, 4: 65.6997962058823, 6: 66.13907245008913, 9: 66.00298477402666}\n",
      "\n",
      "SELECTED FEATURES: \n",
      "[0, 8, 10, 7, 5, 3, 1, 4]\n",
      "\n",
      " -------------------------------------------------- \n",
      "\n",
      "H0 rejected: \n",
      "{0: True, 2: True, 6: True, 9: True}\n",
      "\n",
      "RMSES: \n",
      "{0: 65.6997962058823, 2: 65.48847411136869, 6: 65.67171244870882, 9: 65.51029540620166}\n",
      "\n",
      "SELECTED FEATURES: \n",
      "[0, 8, 10, 7, 5, 3, 1, 4, 2]\n",
      "\n",
      " -------------------------------------------------- \n",
      "\n",
      "H0 rejected: \n",
      "{0: True, 6: False, 9: True}\n",
      "\n",
      "RMSES: \n",
      "{0: 65.48847411136869, 6: 65.46745116888788, 9: 65.31544671232334}\n",
      "\n",
      "SELECTED FEATURES: \n",
      "[0, 8, 10, 7, 5, 3, 1, 4, 2, 9]\n",
      "\n",
      " -------------------------------------------------- \n",
      "\n",
      "H0 rejected: \n",
      "{0: True, 6: False}\n",
      "\n",
      "RMSES: \n",
      "{0: 65.31544671232334, 6: 65.30186325347798}\n",
      "\n",
      "SELECTED FEATURES: \n",
      "[0, 8, 10, 7, 5, 3, 1, 4, 2, 9]\n",
      "\n",
      " -------------------------------------------------- \n",
      "\n"
     ]
    }
   ],
   "source": [
    "can_improve = True\n",
    "selected_features = [0]\n",
    "\n",
    "while can_improve:\n",
    "    H0_rejected, rmses = feature_selection(X,y,selected_features)\n",
    "    print('H0 rejected: ')\n",
    "    print(H0_rejected)\n",
    "    print('\\nRMSES: ')\n",
    "    print(rmses)\n",
    "\n",
    "    ind_best = min(rmses, key=rmses.get)\n",
    "\n",
    "    if H0_rejected[ind_best] and ind_best not in selected_features:\n",
    "        selected_features.append(ind_best)\n",
    "    else:\n",
    "        can_improve = False\n",
    "\n",
    "    print('\\nSELECTED FEATURES: ')\n",
    "    print(selected_features)\n",
    "    print('\\n','-'*50, '\\n')"
   ]
  },
  {
   "cell_type": "markdown",
   "metadata": {},
   "source": [
    "### Final model:\n",
    "\n",
    "**White wine**: 0, 8, 10, 7, 5, 3, 1, 4, 2, 9\n",
    "\n",
    "**Red wine**: 0, 8, 10, 9, 6, 4, 5"
   ]
  },
  {
   "cell_type": "code",
   "execution_count": null,
   "metadata": {},
   "outputs": [],
   "source": []
  }
 ],
 "metadata": {
  "kernelspec": {
   "display_name": "Python 3",
   "language": "python",
   "name": "python3"
  },
  "language_info": {
   "codemirror_mode": {
    "name": "ipython",
    "version": 3
   },
   "file_extension": ".py",
   "mimetype": "text/x-python",
   "name": "python",
   "nbconvert_exporter": "python",
   "pygments_lexer": "ipython3",
   "version": "3.7.3"
  }
 },
 "nbformat": 4,
 "nbformat_minor": 2
}
